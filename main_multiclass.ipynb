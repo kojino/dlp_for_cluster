{
 "cells": [
  {
   "cell_type": "code",
   "execution_count": 1,
   "metadata": {
    "collapsed": false
   },
   "outputs": [],
   "source": [
    "from __future__ import print_function\n",
    "import numpy as np\n",
    "import tensorflow as tf\n",
    "import matplotlib.pyplot as plt\n",
    "\n",
    "from model import *\n",
    "\n",
    "unlabel_prob = 0.95 # probability of labels to be unlabeled\n",
    "percentile = 0     # when a graph is not given, construct a graph \n",
    "                    # dropping nodes under this percentile \n",
    "\n",
    "sigma = 1.5           # sigma hyperparameter for RBF kernel\n",
    "\n",
    "hard = False\n",
    "\n",
    "\n",
    "%matplotlib inline"
   ]
  },
  {
   "cell_type": "code",
   "execution_count": 2,
   "metadata": {
    "collapsed": false
   },
   "outputs": [
    {
     "name": "stdout",
     "output_type": "stream",
     "text": [
      "graph given\n"
     ]
    }
   ],
   "source": [
    "true_labels, features, graph = Data.Data.load_cora(multiclass=True)\n",
    "labels, is_labeled, labeled_indices, unlabeled_indices = utils.random_unlabel(true_labels,unlabel_prob=unlabel_prob,multiclass=True)\n",
    "solution  = true_labels[unlabeled_indices]\n",
    "weights, graph   = utils.rbf_kernel(features,s=sigma,G=graph)"
   ]
  },
  {
   "cell_type": "code",
   "execution_count": 3,
   "metadata": {
    "collapsed": false
   },
   "outputs": [],
   "source": [
    "# baseline_prediction = np.rint(labels[unlabeled_indices])\n",
    "# print(\"[Baseline]　Accuracy:\", utils.accuracy(solution, baseline_prediction), \n",
    "#       \"RMSE:\", utils.rmse(solution, baseline_prediction))"
   ]
  },
  {
   "cell_type": "code",
   "execution_count": 8,
   "metadata": {
    "collapsed": false
   },
   "outputs": [],
   "source": [
    "lp = LP.LP()\n",
    "lp_closed_prediction = utils.prob_to_one_hot(lp.closed(labels,\n",
    "                                              weights,\n",
    "                                              labeled_indices,\n",
    "                                              unlabeled_indices))\n",
    "lp_iter_prediction = utils.prob_to_one_hot(lp.iter(labels,\n",
    "                                           weights,\n",
    "                                           is_labeled,\n",
    "                                           num_iter=100))"
   ]
  },
  {
   "cell_type": "code",
   "execution_count": 9,
   "metadata": {
    "collapsed": false
   },
   "outputs": [
    {
     "name": "stdout",
     "output_type": "stream",
     "text": [
      "[Closed]　Accuracy: 0.761016949153 RMSE: 0.238983050847\n",
      "[Iter]　Accuracy: 0.76186440678 RMSE: 0.23813559322\n"
     ]
    }
   ],
   "source": [
    "print(\"[Closed]　Accuracy:\", utils.accuracy(solution, lp_closed_prediction,multiclass=True), \n",
    "      \"RMSE:\", utils.mse(solution, lp_closed_prediction,multiclass=True))\n",
    "print(\"[Iter]　Accuracy:\", utils.accuracy(solution, lp_iter_prediction[unlabeled_indices],multiclass=True), \n",
    "      \"RMSE:\", utils.mse(solution, lp_iter_prediction[unlabeled_indices],multiclass=True))"
   ]
  }
 ],
 "metadata": {
  "kernelspec": {
   "display_name": "ml",
   "language": "python",
   "name": "ml"
  },
  "language_info": {
   "codemirror_mode": {
    "name": "ipython",
    "version": 3
   },
   "file_extension": ".py",
   "mimetype": "text/x-python",
   "name": "python",
   "nbconvert_exporter": "python",
   "pygments_lexer": "ipython3",
   "version": "3.6.3"
  }
 },
 "nbformat": 4,
 "nbformat_minor": 0
}
