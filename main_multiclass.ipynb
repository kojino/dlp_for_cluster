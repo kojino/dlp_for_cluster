{
 "cells": [
  {
   "cell_type": "code",
   "execution_count": 1,
   "metadata": {
    "collapsed": false
   },
   "outputs": [],
   "source": [
    "from __future__ import print_function\n",
    "import numpy as np\n",
    "import tensorflow as tf\n",
    "import matplotlib.pyplot as plt\n",
    "\n",
    "from model import *\n",
    "\n",
    "num_samples = 10\n",
    "unlabel_prob = 0.95 # probability of labels to be unlabeled\n",
    "percentile = 0     # when a graph is not given, construct a graph \n",
    "                    # dropping nodes under this percentile \n",
    "\n",
    "sigma = 1.5         # sigma hyperparameter for RBF kernel\n",
    "\n",
    "hard = False\n",
    "\n",
    "\n",
    "%matplotlib inline"
   ]
  },
  {
   "cell_type": "code",
   "execution_count": 2,
   "metadata": {
    "collapsed": false
   },
   "outputs": [
    {
     "name": "stdout",
     "output_type": "stream",
     "text": [
      "graph given\n"
     ]
    }
   ],
   "source": [
    "true_labels, features, graph = Data.Data.load_cora(multiclass=True)\n",
    "labels, is_labeled, labeled_indices, unlabeled_indices = utils.random_unlabel(true_labels,unlabel_prob=unlabel_prob,multiclass=True)\n",
    "solution = true_labels[unlabeled_indices]\n",
    "weights, graph   = utils.rbf_kernel(features,s=sigma,G=graph)\n",
    "num_nodes = len(labels)\n",
    "num_classes = true_labels.shape[1]"
   ]
  },
  {
   "cell_type": "code",
   "execution_count": 3,
   "metadata": {
    "collapsed": false
   },
   "outputs": [],
   "source": [
    "# baseline_prediction = np.rint(labels[unlabeled_indices])\n",
    "# print(\"[Baseline]　Accuracy:\", utils.accuracy(solution, baseline_prediction), \n",
    "#       \"RMSE:\", utils.rmse(solution, baseline_prediction))"
   ]
  },
  {
   "cell_type": "code",
   "execution_count": 3,
   "metadata": {
    "collapsed": false
   },
   "outputs": [],
   "source": [
    "lp = LP.LP()\n",
    "lp_closed_prediction = lp.closed(labels,\n",
    "                                 weights,\n",
    "                                 labeled_indices,\n",
    "                                 unlabeled_indices)\n",
    "lp_closed_onehot = utils.prob_to_one_hot(lp_closed_prediction)\n",
    "lp_iter_prediction = lp.iter(labels,\n",
    "                             weights,\n",
    "                             is_labeled,\n",
    "                             num_iter=100)\n",
    "lp_iter_onehot = utils.prob_to_one_hot(lp_iter_prediction)"
   ]
  },
  {
   "cell_type": "code",
   "execution_count": 4,
   "metadata": {
    "collapsed": false
   },
   "outputs": [
    {
     "name": "stdout",
     "output_type": "stream",
     "text": [
      "[Closed]　Accuracy: 0.775 MSE: 0.0620488856757 Log: 0.960635245642\n",
      "[Iter]　Accuracy: 0.774576271186 MSE: 0.063334587098 Log: 0.983047508429\n"
     ]
    }
   ],
   "source": [
    "print(\"[Closed]　Accuracy:\", utils.accuracy(solution, lp_closed_onehot,multiclass=True), \n",
    "      \"MSE:\", utils.mse(solution, lp_closed_prediction),\n",
    "      \"Log:\", utils.log_loss(solution, lp_closed_prediction,multiclass=True))\n",
    "print(\"[Iter]　Accuracy:\", utils.accuracy(solution, lp_iter_onehot[unlabeled_indices],multiclass=True), \n",
    "      \"MSE:\", utils.mse(solution, lp_iter_prediction[unlabeled_indices]),\n",
    "      \"Log:\", utils.log_loss(solution, lp_iter_prediction[unlabeled_indices],multiclass=True))"
   ]
  },
  {
   "cell_type": "code",
   "execution_count": 5,
   "metadata": {
    "collapsed": true
   },
   "outputs": [],
   "source": [
    "data, validation_data = Data.Data.prepare(labels,labeled_indices,true_labels,2,num_classes,num_samples,num_nodes)"
   ]
  },
  {
   "cell_type": "code",
   "execution_count": 6,
   "metadata": {
    "collapsed": false
   },
   "outputs": [],
   "source": [
    "dlp = DeepLPT.DeepLPT(num_nodes,num_classes,weights,num_iter=100,lr=0.1)\n"
   ]
  },
  {
   "cell_type": "code",
   "execution_count": 9,
   "metadata": {
    "collapsed": false
   },
   "outputs": [],
   "source": [
    "dlp_rbf = DeepLP_RBFT.DeepLP_RBFT(num_nodes,num_classes,features, graph, sigma, num_iter=100, lr=0.01, loss_type='log',graph_sparse=True) # usually 1"
   ]
  },
  {
   "cell_type": "code",
   "execution_count": 10,
   "metadata": {
    "collapsed": false
   },
   "outputs": [
    {
     "name": "stdout",
     "output_type": "stream",
     "text": [
      "{'true_loss': 0.97816938, 'true_accuracy': 0.77457625}\n"
     ]
    }
   ],
   "source": [
    "dlp_rbf_prediction,_ = dlp_rbf.labelprop(validation_data)"
   ]
  },
  {
   "cell_type": "code",
   "execution_count": null,
   "metadata": {
    "collapsed": false
   },
   "outputs": [],
   "source": [
    "dlp_rbf.train(data,validation_data,200)"
   ]
  },
  {
   "cell_type": "code",
   "execution_count": 6,
   "metadata": {
    "collapsed": false
   },
   "outputs": [],
   "source": [
    "\n",
    "def labelprop(data):\n",
    "    _open_sess()\n",
    "    l_o_loss      = (_calc_loss(y,yhat,masked)\n",
    "                          + regularize * _regularize_loss())\n",
    "    # evaluate performance\n",
    "    loss          = _calc_loss(y,yhat,1-labeled)\n",
    "    # labeled_loss  = _calc_loss(y,yhat,labeled)\n",
    "    accuracy      = _calc_accuracy(y,yhat,1-labeled)\n",
    "    true_loss     = _calc_loss(y,yhat,1-true_labeled)\n",
    "    true_accuracy = _calc_accuracy(y,yhat,1-true_labeled)\n",
    "\n",
    "    pred,l_o_loss_,loss_,accuracy_,true_loss_,true_accuracy_ = _eval([yhat,l_o_loss,loss,accuracy,true_loss,true_accuracy],data)\n",
    "    metrics = {\n",
    "        'loss': loss_,\n",
    "        'labeled_loss': l_o_loss_,\n",
    "        'accuracy': accuracy_,\n",
    "        'true_loss': true_loss_,\n",
    "        'true_accuracy': true_accuracy_\n",
    "    }\n",
    "    print(metrics)\n",
    "\n",
    "    return pred, metrics\n",
    "\n",
    "def plot():\n",
    "    _plot_loss()\n",
    "    _plot_accuracy()\n",
    "    _plot_params()\n",
    "\n",
    "def train(data,validation_data,epochs=1000):\n",
    "    _open_sess()\n",
    "\n",
    "    n = len(data['X'])\n",
    "    losses = []\n",
    "    labeled_losses = []\n",
    "    accuracies = []\n",
    "    true_losses = []\n",
    "    true_accuracies = []\n",
    "    _save(-1,data,validation_data,n)\n",
    "    for epoch in range(epochs):\n",
    "        # Train with each example\n",
    "        _eval(update,data)\n",
    "        print(\"--- %s seconds ---\" % (time.time() - start_time))\n",
    "        start_time = time.time()\n",
    "        _save(epoch,data,validation_data,n)\n",
    "        if epoch > 2:\n",
    "            latest = labeled_losses[-1]\n",
    "            prev   = labeled_losses[-2]\n",
    "            if latest - prev < 0.001:\n",
    "                stopping_count += 1\n",
    "            else:\n",
    "                stopping_count = 0\n",
    "            if stopping_count > 4:\n",
    "                print(\"early stopping after\",epoch,\"epochs\")\n",
    "                break\n",
    "\n",
    "def _backwardprop(y,\n",
    "                        yhat,\n",
    "                        labeled,\n",
    "                        true_labeled,\n",
    "                        masked,\n",
    "                        regularize,\n",
    "                        lr):\n",
    "    '''\n",
    "    Backprop on unlabeled + masked labeled nodes.\n",
    "    Calculate loss and accuracy for both train and validation dataset.\n",
    "    '''\n",
    "    # backward propagation\n",
    "    l_o_loss      = _calc_loss(y,yhat,masked)\n",
    "    objective     = l_o_loss + regularize * _regularize_loss()\n",
    "    update        = tf.train.AdamOptimizer(lr).minimize(objective)\n",
    "\n",
    "    # evaluate performance\n",
    "    loss          = _calc_loss(y,yhat,1-labeled)\n",
    "    # labeled_loss  = _calc_loss(y,yhat,labeled)\n",
    "    accuracy      = _calc_accuracy(y,yhat,1-labeled)\n",
    "    true_loss     = _calc_loss(y,yhat,1-true_labeled)\n",
    "    true_accuracy = _calc_accuracy(y,yhat,1-true_labeled)\n",
    "\n",
    "    metrics = {\n",
    "        'loss': loss,\n",
    "        'labeled_loss': l_o_loss,\n",
    "        'accuracy': accuracy,\n",
    "        'true_loss': true_loss,\n",
    "        'true_accuracy': true_accuracy\n",
    "    }\n",
    "\n",
    "    return update, metrics\n",
    "\n",
    "def _calc_accuracy(y,yhat,mask):\n",
    "\n",
    "    yhat = tf.argmax(yhat,axis=0)\n",
    "    y = tf.argmax(y,axis=0)\n",
    "    mask = tf.reduce_max(mask,axis=0)\n",
    "    acc_mat = mask * tf.cast(tf.equal(yhat,y),tf.float32)\n",
    "    return tf.reduce_sum(acc_mat) / tf.count_nonzero(mask,dtype=tf.float32)\n",
    "\n",
    "def _calc_loss(y,yhat,mask, eps=0.00001):\n",
    "    \n",
    "    if loss_type == 'mse':\n",
    "        loss_mat = mask * ((y - yhat) ** 2)\n",
    "        loss = tf.reduce_sum(loss_mat) / tf.count_nonzero(mask,dtype=tf.float32)\n",
    "    if loss_type == 'log':\n",
    "        yhat = tf.minimum(tf.maximum(yhat, eps), 1-eps)\n",
    "        loss_mat = mask * y * tf.log(yhat) * (-1)\n",
    "        loss = tf.reduce_sum(loss_mat) / tf.count_nonzero(mask*y,dtype=tf.float32)\n",
    "\n",
    "    return loss\n",
    "\n",
    "def _eval(vals,data):\n",
    "    return sess.run(vals, feed_dict={X:data['X'],\n",
    "                                          y:data['y'],\n",
    "                                          labeled:data['labeled'],\n",
    "                                          true_labeled:data['true_labeled'],\n",
    "                                          masked:data['masked']})\n",
    "\n",
    "def _forwardprop(X,\n",
    "                       weights,\n",
    "                       labeled,\n",
    "                       num_iter):\n",
    "    'Forward prop which mimicks LP.'\n",
    "\n",
    "    Tnorm = _tnorm(weights)\n",
    "    Tnorm_T = tf.transpose(Tnorm)\n",
    "\n",
    "    def layer(i,h,X,Tnorm_T):\n",
    "        # propagate labels\n",
    "        h = tf.tensordot(h,\n",
    "                         Tnorm_T,axes=1)\n",
    "        h.set_shape(shape)\n",
    "        # don't update labeled nodes\n",
    "        h = h * (1-labeled) + X * labeled\n",
    "\n",
    "        return [i+1,h,X,Tnorm_T]\n",
    "\n",
    "    def condition(i,X,trueX,Tnorm):\n",
    "        return num_iter > i\n",
    "\n",
    "    _,yhat,_,_ = tf.while_loop(condition, layer, loop_vars=[0,X,X,Tnorm_T])\n",
    "    return yhat\n",
    "\n",
    "def _get_val(val):\n",
    "    return sess.run(val)\n",
    "\n",
    "def _init_weights(weights_np):\n",
    "    'Weight initialization.'\n",
    "    weights = tf.convert_to_tensor(weights_np, np.float32)\n",
    "    return tf.Variable(weights)\n",
    "\n",
    "def _open_sess():\n",
    "    sess = tf.Session()\n",
    "    init      = tf.global_variables_initializer()\n",
    "    sess.run(init)\n",
    "\n",
    "def _plot_accuracy():\n",
    "    plt.plot(accuracies,label=\"DeepLP, train\")\n",
    "    plt.plot([true_accuracies[0]] * len(accuracies),label=\"LP\")\n",
    "    plt.plot(true_accuracies,label=\"DeepLP, validation\")\n",
    "    plt.title(\"accuracy\")\n",
    "    plt.legend()\n",
    "    plt.show()\n",
    "\n",
    "def _plot_loss():\n",
    "    plt.plot(labeled_losses,label=\"labeled loss\")\n",
    "    plt.plot(losses,label=\"unlabeled loss\")\n",
    "    plt.plot(true_losses,label='validation unlabeled loss')\n",
    "    plt.title(\"loss\")\n",
    "    plt.legend()\n",
    "    plt.show()\n",
    "\n",
    "def _plot_params():\n",
    "    pass\n",
    "\n",
    "def _regularize_loss():\n",
    "    return 0\n",
    "    # tf.nn.l2_loss(theta-1)\n",
    "\n",
    "def _save_params(epoch,data,n):\n",
    "    pass\n",
    "\n",
    "def _save(epoch,data,validation_data,n):\n",
    "\n",
    "    loss,labeled_loss,accuracy = _eval([metrics['loss'],metrics['labeled_loss'],metrics['accuracy']],data)\n",
    "    true_loss,true_accuracy    = _eval([metrics['true_loss'],metrics['true_accuracy']],validation_data)\n",
    "    losses.append(loss)\n",
    "    labeled_losses.append(labeled_loss)\n",
    "    accuracies.append(accuracy)\n",
    "    true_losses.append(true_loss)\n",
    "    true_accuracies.append(true_accuracy)\n",
    "\n",
    "    if epoch % 1 == 0 or epoch == -1:\n",
    "        print(\"epoch:\",epoch,\n",
    "              \"labeled loss:\",labeled_loss,\n",
    "              \"unlabeled loss:\",loss,\n",
    "              \"accuracy:\",accuracy,\n",
    "              \"true unlabeled loss:\",true_loss,\n",
    "              \"true accuracy:\",true_accuracy)\n",
    "        start_time = time.time()\n",
    "    _save_params(epoch,data,n)\n",
    "\n",
    "def _tnorm(weights):\n",
    "    Tnorm = weights / tf.reduce_sum(weights, axis = 1, keep_dims=True)\n",
    "    return Tnorm\n"
   ]
  },
  {
   "cell_type": "code",
   "execution_count": 7,
   "metadata": {
    "collapsed": false
   },
   "outputs": [],
   "source": [
    "weights      = _init_weights(weights)"
   ]
  },
  {
   "cell_type": "code",
   "execution_count": 13,
   "metadata": {
    "collapsed": false
   },
   "outputs": [],
   "source": [
    "    # initialize placeholders\n",
    "    shape             = [num_classes, None, num_nodes]\n",
    "    X            = tf.placeholder(\"float\", shape=shape)\n",
    "    y            = tf.placeholder(\"float\", shape=shape)\n",
    "    labeled      = tf.placeholder(\"float\", shape=shape)\n",
    "    true_labeled = tf.placeholder(\"float\", shape=shape)\n",
    "    masked       = tf.placeholder(\"float\", shape=shape)\n",
    "    shape        = shape\n",
    "\n",
    "    yhat         = _forwardprop(X,\n",
    "                                          weights,\n",
    "                                          labeled,\n",
    "                                          100)\n",
    "    loss_type = 'mse'"
   ]
  },
  {
   "cell_type": "code",
   "execution_count": 14,
   "metadata": {
    "collapsed": false
   },
   "outputs": [],
   "source": [
    "    l_o_loss      = (_calc_loss(y,yhat,masked)\n",
    "                          + 0 * _regularize_loss())\n",
    "    # evaluate performance\n",
    "    loss          = _calc_loss(y,yhat,1-labeled)\n",
    "    # labeled_loss  = _calc_loss(y,yhat,labeled)\n",
    "    accuracy      = _calc_accuracy(y,yhat,1-labeled)\n",
    "    true_loss     = _calc_loss(y,yhat,1-true_labeled)\n",
    "    true_accuracy = _calc_accuracy(y,yhat,1-true_labeled)"
   ]
  },
  {
   "cell_type": "code",
   "execution_count": 15,
   "metadata": {
    "collapsed": true
   },
   "outputs": [],
   "source": [
    "data, validation_data = Data.Data.prepare(labels,labeled_indices,true_labels,2,num_classes,num_samples,num_nodes)"
   ]
  },
  {
   "cell_type": "code",
   "execution_count": 16,
   "metadata": {
    "collapsed": true
   },
   "outputs": [],
   "source": [
    "    yhat_max = tf.argmax(yhat,axis=0)\n",
    "    y_max = tf.argmax(y,axis=0)\n",
    "#     mask = tf.reduce_max(mask,axis=0)\n",
    "#     acc_mat = mask * tf.cast(tf.equal(yhat,y),tf.float32)\n",
    "#     return tf.reduce_sum(acc_mat) / tf.count_nonzero(mask,dtype=tf.float32)"
   ]
  },
  {
   "cell_type": "code",
   "execution_count": 17,
   "metadata": {
    "collapsed": false
   },
   "outputs": [],
   "source": [
    "with tf.Session() as sess:\n",
    "    sess.run(tf.global_variables_initializer())\n",
    "\n",
    "    loss_ = sess.run(true_loss, feed_dict={X:validation_data['X'],\n",
    "                                              y:validation_data['y'],\n",
    "                                              labeled:validation_data['labeled'],\n",
    "                                              true_labeled:validation_data['true_labeled'],\n",
    "                                              masked:validation_data['masked']})\n"
   ]
  },
  {
   "cell_type": "code",
   "execution_count": 18,
   "metadata": {
    "collapsed": false
   },
   "outputs": [
    {
     "data": {
      "text/plain": [
       "0.060952485"
      ]
     },
     "execution_count": 18,
     "metadata": {},
     "output_type": "execute_result"
    }
   ],
   "source": [
    "loss_"
   ]
  },
  {
   "cell_type": "code",
   "execution_count": 26,
   "metadata": {
    "collapsed": false
   },
   "outputs": [
    {
     "data": {
      "text/plain": [
       "2360"
      ]
     },
     "execution_count": 26,
     "metadata": {},
     "output_type": "execute_result"
    }
   ],
   "source": [
    "np.count_nonzero(solution)"
   ]
  },
  {
   "cell_type": "code",
   "execution_count": 30,
   "metadata": {
    "collapsed": false
   },
   "outputs": [
    {
     "data": {
      "text/plain": [
       "140"
      ]
     },
     "execution_count": 30,
     "metadata": {},
     "output_type": "execute_result"
    }
   ],
   "source": [
    "np.count_nonzero(validation_data['masked'])"
   ]
  },
  {
   "cell_type": "code",
   "execution_count": 34,
   "metadata": {
    "collapsed": false
   },
   "outputs": [
    {
     "data": {
      "text/plain": [
       "2360.0"
      ]
     },
     "execution_count": 34,
     "metadata": {},
     "output_type": "execute_result"
    }
   ],
   "source": [
    "np.sum((1-validation_data['true_labeled']) * validation_data['y'])"
   ]
  },
  {
   "cell_type": "code",
   "execution_count": 24,
   "metadata": {
    "collapsed": false
   },
   "outputs": [
    {
     "data": {
      "text/plain": [
       "False"
      ]
     },
     "execution_count": 24,
     "metadata": {},
     "output_type": "execute_result"
    }
   ],
   "source": [
    "y_max_ == yhat_max"
   ]
  },
  {
   "cell_type": "code",
   "execution_count": 27,
   "metadata": {
    "collapsed": false
   },
   "outputs": [
    {
     "data": {
      "text/plain": [
       "0.78262711864406775"
      ]
     },
     "execution_count": 27,
     "metadata": {},
     "output_type": "execute_result"
    }
   ],
   "source": [
    "np.mean(yhat_max_[0][unlabeled_indices]==y_max_[0][unlabeled_indices])"
   ]
  },
  {
   "cell_type": "code",
   "execution_count": 31,
   "metadata": {
    "collapsed": false
   },
   "outputs": [
    {
     "data": {
      "text/plain": [
       "0"
      ]
     },
     "execution_count": 31,
     "metadata": {},
     "output_type": "execute_result"
    }
   ],
   "source": [
    "np.sum(validation_data['y'] > 1)"
   ]
  },
  {
   "cell_type": "code",
   "execution_count": 28,
   "metadata": {
    "collapsed": false
   },
   "outputs": [
    {
     "data": {
      "text/plain": [
       "array([[ 0.,  0.,  0., ...,  0.,  0.,  0.],\n",
       "       [ 0.,  0.,  0., ...,  0.,  0.,  0.],\n",
       "       [ 0.,  0.,  0., ...,  0.,  0.,  0.],\n",
       "       ..., \n",
       "       [ 0.,  0.,  0., ...,  0.,  0.,  0.],\n",
       "       [ 0.,  0.,  0., ...,  0.,  0.,  0.],\n",
       "       [ 0.,  0.,  0., ...,  0.,  0.,  0.]])"
      ]
     },
     "execution_count": 28,
     "metadata": {},
     "output_type": "execute_result"
    }
   ],
   "source": [
    "validation_data['true_labeled'][:,0,:].T[unlabeled_indices]"
   ]
  },
  {
   "cell_type": "code",
   "execution_count": 24,
   "metadata": {
    "collapsed": false
   },
   "outputs": [
    {
     "data": {
      "text/plain": [
       "(0.76864406779661021,)"
      ]
     },
     "execution_count": 24,
     "metadata": {},
     "output_type": "execute_result"
    }
   ],
   "source": [
    "utils.accuracy(solution, utils.prob_to_one_hot(yhat_[:,0,:].T[unlabeled_indices]),multiclass=True), "
   ]
  },
  {
   "cell_type": "code",
   "execution_count": 55,
   "metadata": {
    "collapsed": false
   },
   "outputs": [
    {
     "data": {
      "text/plain": [
       "array([[0, 0, 0, ..., 0, 0, 2]])"
      ]
     },
     "execution_count": 55,
     "metadata": {},
     "output_type": "execute_result"
    }
   ],
   "source": [
    "y_max"
   ]
  },
  {
   "cell_type": "code",
   "execution_count": 54,
   "metadata": {
    "collapsed": false
   },
   "outputs": [
    {
     "data": {
      "text/plain": [
       "array([ 2.,  0.,  0., ...,  1.,  0.,  2.])"
      ]
     },
     "execution_count": 54,
     "metadata": {},
     "output_type": "execute_result"
    }
   ],
   "source": [
    "np.sum(validation_data['y'][:,0,:],axis=0)"
   ]
  },
  {
   "cell_type": "code",
   "execution_count": 65,
   "metadata": {
    "collapsed": false
   },
   "outputs": [
    {
     "data": {
      "text/plain": [
       "array([[ 1.,  0.,  0., ...,  0.,  1.,  0.],\n",
       "       [ 0.,  0.,  0., ...,  0.,  0.,  0.],\n",
       "       [ 0.,  0.,  0., ...,  0.,  0.,  0.],\n",
       "       ..., \n",
       "       [ 1.,  0.,  0., ...,  0.,  0.,  0.],\n",
       "       [ 0.,  0.,  0., ...,  0.,  0.,  0.],\n",
       "       [ 0.,  0.,  1., ...,  1.,  0.,  0.]])"
      ]
     },
     "execution_count": 65,
     "metadata": {},
     "output_type": "execute_result"
    }
   ],
   "source": [
    "validation_data['y'][:,0,:].T[unlabeled_indices]"
   ]
  },
  {
   "cell_type": "code",
   "execution_count": 45,
   "metadata": {
    "collapsed": false
   },
   "outputs": [
    {
     "data": {
      "text/plain": [
       "array([0, 1, 2, ..., 5, 6, 0])"
      ]
     },
     "execution_count": 45,
     "metadata": {},
     "output_type": "execute_result"
    }
   ],
   "source": [
    "np.argmax(solution,axis=1)"
   ]
  },
  {
   "cell_type": "code",
   "execution_count": 84,
   "metadata": {
    "collapsed": false
   },
   "outputs": [
    {
     "data": {
      "text/plain": [
       "array([[ 1.,  0.,  0., ...,  0.,  0.,  0.],\n",
       "       [ 0.,  1.,  0., ...,  0.,  0.,  0.],\n",
       "       [ 0.,  0.,  1., ...,  0.,  0.,  0.],\n",
       "       ..., \n",
       "       [ 0.,  0.,  0., ...,  0.,  1.,  0.],\n",
       "       [ 0.,  0.,  0., ...,  0.,  0.,  1.],\n",
       "       [ 1.,  0.,  0., ...,  0.,  0.,  0.]])"
      ]
     },
     "execution_count": 84,
     "metadata": {},
     "output_type": "execute_result"
    }
   ],
   "source": [
    "solution"
   ]
  },
  {
   "cell_type": "code",
   "execution_count": 70,
   "metadata": {
    "collapsed": false
   },
   "outputs": [
    {
     "data": {
      "text/plain": [
       "(2485, 7)"
      ]
     },
     "execution_count": 70,
     "metadata": {},
     "output_type": "execute_result"
    }
   ],
   "source": [
    "true_labels"
   ]
  },
  {
   "cell_type": "code",
   "execution_count": 85,
   "metadata": {
    "collapsed": false
   },
   "outputs": [
    {
     "data": {
      "text/plain": [
       "array([[ 1.,  0.,  0., ...,  0.,  0.,  0.],\n",
       "       [ 0.,  1.,  0., ...,  0.,  0.,  0.],\n",
       "       [ 0.,  0.,  1., ...,  0.,  0.,  0.],\n",
       "       ..., \n",
       "       [ 0.,  0.,  0., ...,  0.,  1.,  0.],\n",
       "       [ 0.,  0.,  0., ...,  0.,  0.,  1.],\n",
       "       [ 1.,  0.,  0., ...,  0.,  0.,  0.]])"
      ]
     },
     "execution_count": 85,
     "metadata": {},
     "output_type": "execute_result"
    }
   ],
   "source": [
    "np.tile(true_labels.T,1).reshape(num_classes,1,num_nodes)[:,0,:].T[unlabeled_indices]"
   ]
  },
  {
   "cell_type": "code",
   "execution_count": 77,
   "metadata": {
    "collapsed": false
   },
   "outputs": [
    {
     "ename": "ValueError",
     "evalue": "cannot reshape array of size 173950 into shape (7,1,2485)",
     "output_type": "error",
     "traceback": [
      "\u001b[0;31m---------------------------------------------------------------------------\u001b[0m",
      "\u001b[0;31mValueError\u001b[0m                                Traceback (most recent call last)",
      "\u001b[0;32m<ipython-input-77-a25c04d4c5ad>\u001b[0m in \u001b[0;36m<module>\u001b[0;34m()\u001b[0m\n\u001b[0;32m----> 1\u001b[0;31m \u001b[0mnp\u001b[0m\u001b[0;34m.\u001b[0m\u001b[0mtile\u001b[0m\u001b[0;34m(\u001b[0m\u001b[0mlabels\u001b[0m\u001b[0;34m.\u001b[0m\u001b[0mT\u001b[0m\u001b[0;34m,\u001b[0m\u001b[0mnum_samples\u001b[0m\u001b[0;34m)\u001b[0m\u001b[0;34m.\u001b[0m\u001b[0mreshape\u001b[0m\u001b[0;34m(\u001b[0m\u001b[0mnum_classes\u001b[0m\u001b[0;34m,\u001b[0m\u001b[0;36m1\u001b[0m\u001b[0;34m,\u001b[0m\u001b[0mnum_nodes\u001b[0m\u001b[0;34m)\u001b[0m\u001b[0;34m\u001b[0m\u001b[0m\n\u001b[0m",
      "\u001b[0;31mValueError\u001b[0m: cannot reshape array of size 173950 into shape (7,1,2485)"
     ]
    }
   ],
   "source": [
    "np.tile(labels.T,num_samples)"
   ]
  },
  {
   "cell_type": "code",
   "execution_count": 21,
   "metadata": {
    "collapsed": false
   },
   "outputs": [
    {
     "data": {
      "text/plain": [
       "(2485, 7)"
      ]
     },
     "execution_count": 21,
     "metadata": {},
     "output_type": "execute_result"
    }
   ],
   "source": [
    "yhat_[:,0,:].T.shape"
   ]
  },
  {
   "cell_type": "code",
   "execution_count": 18,
   "metadata": {
    "collapsed": false
   },
   "outputs": [
    {
     "data": {
      "text/plain": [
       "array([[ 0.34883192,  0.05886821,  0.06947003, ...,  0.19176342,\n",
       "         0.0854468 ,  0.09475795],\n",
       "       [ 0.16398354,  0.24277214,  0.05177625, ...,  0.19748591,\n",
       "         0.05157265,  0.23123692],\n",
       "       [ 0.21645211,  0.06094358,  0.17534406, ...,  0.16442336,\n",
       "         0.14139494,  0.11683412],\n",
       "       ..., \n",
       "       [ 0.10590645,  0.03797606,  0.0667713 , ...,  0.07990669,\n",
       "         0.59924595,  0.06468278],\n",
       "       [ 0.09264493,  0.08716514,  0.06326002, ...,  0.09903728,\n",
       "         0.1061604 ,  0.49958718],\n",
       "       [ 0.42298221,  0.04664894,  0.04578981, ...,  0.20091122,\n",
       "         0.0733966 ,  0.07071644]])"
      ]
     },
     "execution_count": 18,
     "metadata": {},
     "output_type": "execute_result"
    }
   ],
   "source": [
    "a"
   ]
  },
  {
   "cell_type": "code",
   "execution_count": 17,
   "metadata": {
    "collapsed": false
   },
   "outputs": [
    {
     "data": {
      "text/plain": [
       "True"
      ]
     },
     "execution_count": 17,
     "metadata": {},
     "output_type": "execute_result"
    }
   ],
   "source": [
    "(yhat_[:,0,:].T>a-0.000001).all()"
   ]
  },
  {
   "cell_type": "code",
   "execution_count": 18,
   "metadata": {
    "collapsed": false
   },
   "outputs": [
    {
     "data": {
      "text/plain": [
       "True"
      ]
     },
     "execution_count": 18,
     "metadata": {},
     "output_type": "execute_result"
    }
   ],
   "source": [
    "(yhat_[:,0,:].T<a+0.000001).all()"
   ]
  },
  {
   "cell_type": "code",
   "execution_count": null,
   "metadata": {
    "collapsed": true
   },
   "outputs": [],
   "source": []
  }
 ],
 "metadata": {
  "kernelspec": {
   "display_name": "ml",
   "language": "python",
   "name": "ml"
  },
  "language_info": {
   "codemirror_mode": {
    "name": "ipython",
    "version": 3
   },
   "file_extension": ".py",
   "mimetype": "text/x-python",
   "name": "python",
   "nbconvert_exporter": "python",
   "pygments_lexer": "ipython3",
   "version": "3.6.3"
  }
 },
 "nbformat": 4,
 "nbformat_minor": 0
}
